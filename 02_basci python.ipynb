{
 "cells": [
  {
   "cell_type": "markdown",
   "metadata": {},
   "source": [
    "#  ตัวแปรแบบ (sequence type)\n",
    "# 1. tuple"
   ]
  },
  {
   "cell_type": "code",
   "execution_count": 5,
   "metadata": {},
   "outputs": [],
   "source": [
    "# tuple สามารถเก็บค่าได้หลาย ๆ ชนิดในตัวแปรเดียว \n",
    "# immutable เมื่อสร้าง (init)แล้วจะไม่สามารถเปลี่ยนแปลงค่าได้\n",
    "# tuples can be reassigned\n",
    "# del my_tuple\n",
    "\n",
    "my_tuple = (1, \"Hello\", 3.4)\n",
    "tuple_tuple = (\"mouse\", [8, 4, 6], (1, 2, 3))\n",
    "my_tuple1 = 3, 4.6, \"dog\"\n",
    "#print(my_tuple)"
   ]
  },
  {
   "cell_type": "code",
   "execution_count": 6,
   "metadata": {},
   "outputs": [
    {
     "data": {
      "text/plain": [
       "'Hello'"
      ]
     },
     "execution_count": 6,
     "metadata": {},
     "output_type": "execute_result"
    }
   ],
   "source": [
    "my_tuple[1]"
   ]
  },
  {
   "cell_type": "code",
   "execution_count": 7,
   "metadata": {},
   "outputs": [
    {
     "data": {
      "text/plain": [
       "3.4"
      ]
     },
     "execution_count": 7,
     "metadata": {},
     "output_type": "execute_result"
    }
   ],
   "source": [
    "my_tuple[-1]"
   ]
  },
  {
   "cell_type": "code",
   "execution_count": 10,
   "metadata": {},
   "outputs": [
    {
     "ename": "TypeError",
     "evalue": "'tuple' object does not support item assignment",
     "output_type": "error",
     "traceback": [
      "\u001b[1;31m---------------------------------------------------------------------------\u001b[0m",
      "\u001b[1;31mTypeError\u001b[0m                                 Traceback (most recent call last)",
      "\u001b[1;32m<ipython-input-10-bfce93d8c9fc>\u001b[0m in \u001b[0;36m<module>\u001b[1;34m\u001b[0m\n\u001b[1;32m----> 1\u001b[1;33m \u001b[0mmy_tuple\u001b[0m\u001b[1;33m[\u001b[0m\u001b[1;36m3\u001b[0m\u001b[1;33m]\u001b[0m\u001b[1;33m=\u001b[0m\u001b[1;34m\"world\"\u001b[0m\u001b[1;33m\u001b[0m\u001b[1;33m\u001b[0m\u001b[0m\n\u001b[0m",
      "\u001b[1;31mTypeError\u001b[0m: 'tuple' object does not support item assignment"
     ]
    }
   ],
   "source": [
    "my_tuple[3]=\"world\""
   ]
  },
  {
   "cell_type": "markdown",
   "metadata": {},
   "source": [
    "# List สามารถเก็บค่าได้หลาย ๆ ชนิดในตัวแปรเดียว \n",
    "# mutable สามารถเปลี่ยนแปลงค่าได้\n",
    "# การเพิ่ม ลบ ข้อมูลใน list ได้"
   ]
  },
  {
   "cell_type": "code",
   "execution_count": 24,
   "metadata": {},
   "outputs": [],
   "source": [
    "def flowers_list():\n",
    "    flowers = [\"calla\", \"lily\", \"jasmine\"] # List element []\n",
    "    print(flowers)\n",
    "    flowers = flowers + [\"sunflower\", \"ivy\", \"gypso\"] # add element to list\n",
    "    print(flowers)\n",
    "   \n",
    "    flowers.append(\"carnation\") # appende 1 element to list\n",
    "    print(flowers)\n",
    "\n",
    "    # del flowers[1] \n",
    "    # print(flowers)\n",
    "    # flowers.remove(\"jasmine\")\n",
    "    # print(flowers)\n",
    "    \n",
    "    sorted_flowers = sorted(flowers)\n",
    "    print(sorted_flowers)\n",
    "    print(flowers)\n",
    "    flowers.sort()\n",
    "    print(flowers)\n",
    "  "
   ]
  },
  {
   "cell_type": "code",
   "execution_count": 25,
   "metadata": {},
   "outputs": [
    {
     "name": "stdout",
     "output_type": "stream",
     "text": [
      "['calla', 'lily', 'jasmine']\n",
      "['calla', 'lily', 'jasmine', 'sunflower', 'ivy', 'gypso']\n",
      "['calla', 'lily', 'jasmine', 'sunflower', 'ivy', 'gypso', 'carnation']\n",
      "['calla', 'carnation', 'gypso', 'ivy', 'jasmine', 'lily', 'sunflower']\n",
      "['calla', 'lily', 'jasmine', 'sunflower', 'ivy', 'gypso', 'carnation']\n",
      "['calla', 'carnation', 'gypso', 'ivy', 'jasmine', 'lily', 'sunflower']\n"
     ]
    }
   ],
   "source": [
    "flowers_list()"
   ]
  },
  {
   "cell_type": "markdown",
   "metadata": {},
   "source": [
    "# slice"
   ]
  },
  {
   "cell_type": "code",
   "execution_count": 27,
   "metadata": {},
   "outputs": [],
   "source": [
    "def flowers_slice():\n",
    "    flowers = ['calla', 'lily', 'jasmine', 'forget me not', 'sunflower', 'ivy', 'gypso']\n",
    "    # slice [inclusive:exclusive:step]\n",
    "    print(flowers[1:4])  \n",
    "    print(flowers[-1]) # last element\n",
    "    print(flowers[-1:-4:-1])\n",
    "    print(flowers[:3])\n",
    "    print(flowers[2:])"
   ]
  },
  {
   "cell_type": "code",
   "execution_count": 28,
   "metadata": {},
   "outputs": [
    {
     "name": "stdout",
     "output_type": "stream",
     "text": [
      "['lily', 'jasmine', 'forget me not']\n",
      "gypso\n",
      "['gypso', 'ivy', 'sunflower']\n",
      "['calla', 'lily', 'jasmine']\n",
      "['jasmine', 'forget me not', 'sunflower', 'ivy', 'gypso']\n"
     ]
    }
   ],
   "source": [
    "flowers_slice()"
   ]
  },
  {
   "cell_type": "code",
   "execution_count": null,
   "metadata": {},
   "outputs": [],
   "source": []
  }
 ],
 "metadata": {
  "kernelspec": {
   "display_name": "Python 3",
   "language": "python",
   "name": "python3"
  },
  "language_info": {
   "codemirror_mode": {
    "name": "ipython",
    "version": 3
   },
   "file_extension": ".py",
   "mimetype": "text/x-python",
   "name": "python",
   "nbconvert_exporter": "python",
   "pygments_lexer": "ipython3",
   "version": "3.7.1"
  }
 },
 "nbformat": 4,
 "nbformat_minor": 2
}
