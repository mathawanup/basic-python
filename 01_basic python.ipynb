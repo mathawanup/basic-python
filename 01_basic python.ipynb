{
 "cells": [
  {
   "cell_type": "markdown",
   "metadata": {},
   "source": [
    "# Arithmetic Operation ตัวดำเนินการคณิตศาสตร์\n",
    "## + บวก  เช่น  3+2 = 5  \n",
    "##  - ลบ   เช่น  3-2 = 1  \n",
    "##  * คูณ   เช่น  3*2 = 6\n",
    "## / หาร  เช่น  3/2 = 1.5 \n",
    "## // หาร ไม่เอาเศษ เช่น  3//2 = 1  \n",
    "##  % แสดงเศษของการหาร เช่น 8%3 = 2  \n",
    "##  ** ยกกำลัง เช่น 4**2 = 16  \n"
   ]
  },
  {
   "cell_type": "markdown",
   "metadata": {},
   "source": [
    "## Operator associativity  left to right\n",
    "## Operator precedence\n",
    "## ** , */ , +-\n",
    "## result=32+((37*9)/5)-(2**3)\n"
   ]
  },
  {
   "cell_type": "code",
   "execution_count": null,
   "metadata": {},
   "outputs": [],
   "source": []
  },
  {
   "cell_type": "markdown",
   "metadata": {},
   "source": [
    "# Relational Operation ตัวดำเนินการเปรียบเทียบ\n",
    "## == เท่ากับ เช่น 3==2 เป็น False (string)\n",
    "## = ไม่เท่ากับ เช่น 3!=2 เป็น True\n",
    "## > มากกว่า เช่น 3 > 2 เป็น True\n",
    "## < น้อยกว่า เช่น 3 < 2 เป็น False\n",
    "## >= มากกว่าหรือเท่ากับ เช่น 3 >= 2 เป็น True\n",
    "## <= น้อยกว่าหรือเท่ากับ เช่น 3 <= 2 เป็น False\n",
    "## and และ , or หรือ"
   ]
  },
  {
   "cell_type": "markdown",
   "metadata": {},
   "source": [
    "# Control Statement \n",
    "\n",
    "## 1. if..else เพื่อตรวจสอบเงื่อนไข ในรูปแบบ function\n"
   ]
  },
  {
   "cell_type": "code",
   "execution_count": 19,
   "metadata": {},
   "outputs": [],
   "source": [
    "def language(lang):\n",
    "    if lang == \"th\":\n",
    "        print(\"sawadee\")\n",
    "    else:\n",
    "        print(\"hello\")\n",
    "    "
   ]
  },
  {
   "cell_type": "code",
   "execution_count": null,
   "metadata": {},
   "outputs": [],
   "source": [
    "def msg_assign(score):\n",
    "    if score > 50:\n",
    "        print(\"Good\")\n",
    "    else:\n",
    "        print(\"Try hrder\")"
   ]
  },
  {
   "cell_type": "code",
   "execution_count": null,
   "metadata": {},
   "outputs": [],
   "source": [
    "\n",
    "def grad_assign(score):\n",
    "    if score > 80:\n",
    "        return 'เกรด A'\n",
    "    elif score > 70:\n",
    "        return 'เกรด B'\n",
    "    elif score > 60:\n",
    "        return 'เกรด C'\n",
    "    elif score > 50:\n",
    "        return 'เกรด D'\n",
    "    else:\n",
    "        return 'สอบไม่ผ่าน'"
   ]
  },
  {
   "cell_type": "code",
   "execution_count": 20,
   "metadata": {},
   "outputs": [],
   "source": [
    "def grade_req(eng, math):\n",
    "    if eng > 70 and math > 80:\n",
    "        return True\n",
    "    else:\n",
    "        return False"
   ]
  },
  {
   "cell_type": "markdown",
   "metadata": {},
   "source": [
    "## ลักษณะพิเศษของ python\n"
   ]
  },
  {
   "cell_type": "code",
   "execution_count": 21,
   "metadata": {},
   "outputs": [],
   "source": [
    "# function : arithmetic expression return \n",
    "def ticket (age):\n",
    "    return age*5"
   ]
  },
  {
   "cell_type": "code",
   "execution_count": 22,
   "metadata": {},
   "outputs": [],
   "source": [
    "# def ticket1(age):\n",
    "#    if age <=5 or age >= 60:\n",
    "#        return 0 Bath\n",
    "#    else:\n",
    "#        return 100 Bath\n",
    "def ticket1 (age):\n",
    "    return 0 if age <=5 or age >= 60 else 100 # ternary in python\n",
    "    # return age <=5 || age >= 60 ? 0 : 100; # ternary in java "
   ]
  },
  {
   "cell_type": "code",
   "execution_count": 24,
   "metadata": {},
   "outputs": [],
   "source": [
    "def ticket2 (age):\n",
    "    if 5 <= age <= 60:\n",
    "        print(\"100 Bath\")\n",
    "    else:\n",
    "        print(\"0 Bath\")\n"
   ]
  },
  {
   "cell_type": "markdown",
   "metadata": {},
   "source": [
    "# 2. for loop การทำงานวนซ้ำ (ทราบจำนวนในการวนซ้ำที่แน่นอน)"
   ]
  },
  {
   "cell_type": "code",
   "execution_count": 29,
   "metadata": {},
   "outputs": [],
   "source": [
    "# range(1, 11)\n",
    "# range(1, 11,2)\n",
    "def loop_range():\n",
    "    for i in range(11): # for(i=0;i<11;i++)\n",
    "        print(i)\n",
    "    print(\"End Loop, bye\")"
   ]
  },
  {
   "cell_type": "code",
   "execution_count": 32,
   "metadata": {},
   "outputs": [],
   "source": [
    "def loop_string():\n",
    "    subj_name = \"Current Topics in Computer Science\"\n",
    "    for name in sub_name: # for each\n",
    "        print(name) # print(name.upper())"
   ]
  },
  {
   "cell_type": "code",
   "execution_count": 33,
   "metadata": {},
   "outputs": [],
   "source": [
    "def loop_tuple():\n",
    "    tuple_com = \"hardware\", \"software\", \"memory\", \"chip\"\n",
    "    for t in tuple_com:\n",
    "        print(t.capitalize())"
   ]
  },
  {
   "cell_type": "markdown",
   "metadata": {},
   "source": [
    "# while loop การทำงานแบบวนซ้ำ (ไม่ทราบจำนวนรอบที่แน่นอน)"
   ]
  },
  {
   "cell_type": "code",
   "execution_count": 35,
   "metadata": {},
   "outputs": [],
   "source": [
    "def sum_input():\n",
    "    n = int(input(\"enter number: \"))\n",
    "    total = 0\n",
    "    while n != 0:\n",
    "        total += n\n",
    "        n = int(input(\"enter number: \"))\n",
    "    print(\"total = \", total)"
   ]
  },
  {
   "cell_type": "code",
   "execution_count": null,
   "metadata": {},
   "outputs": [],
   "source": []
  }
 ],
 "metadata": {
  "kernelspec": {
   "display_name": "Python 3",
   "language": "python",
   "name": "python3"
  },
  "language_info": {
   "codemirror_mode": {
    "name": "ipython",
    "version": 3
   },
   "file_extension": ".py",
   "mimetype": "text/x-python",
   "name": "python",
   "nbconvert_exporter": "python",
   "pygments_lexer": "ipython3",
   "version": "3.7.1"
  }
 },
 "nbformat": 4,
 "nbformat_minor": 2
}
